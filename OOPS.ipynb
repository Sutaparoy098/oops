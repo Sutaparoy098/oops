{
  "nbformat": 4,
  "nbformat_minor": 0,
  "metadata": {
    "colab": {
      "provenance": []
    },
    "kernelspec": {
      "name": "python3",
      "display_name": "Python 3"
    },
    "language_info": {
      "name": "python"
    }
  },
  "cells": [
    {
      "cell_type": "markdown",
      "source": [
        "1. What are the five key concepts of Object-Oriented Programming (OOP)?\n",
        "\n",
        "\n",
        "2. Write a Python class for a `Car` with attributes for `make`, `model`, and `year`. Include a method to display\n",
        "the car's information.\n",
        "\n",
        "\n",
        "3. Explain the difference between instance methods and class methods. Provide an example of each.\n",
        "\n",
        "\n",
        "4. How does Python implement method overloading? Give an example.\n",
        "\n",
        "\n",
        "5. What are the three types of access modifiers in Python? How are they denoted?\n",
        "\n",
        "\n",
        "6. Describe the five types of inheritance in Python. Provide a simple example of multiple inheritance.\n",
        "\n",
        "\n",
        "7. What is the Method Resolution Order (MRO) in Python? How can you retrieve it programmatically?\n",
        "\n",
        "\n",
        "8. Create an abstract base class `Shape` with an abstract method `area()`. Then create two subclasses\n",
        "`Circle` and `Rectangle` that implement the `area()` method.\n",
        "\n",
        "\n",
        "9. Demonstrate polymorphism by creating a function that can work with different shape objects to calculate\n",
        "and print their areas.\n",
        "\n",
        "\n",
        "10. Implement encapsulation in a `BankAccount` class with private attributes for `balance` and\n",
        "`account_number`. Include methods for deposit, withdrawal, and balance inquiry.\n",
        "\n",
        "\n",
        "11. Write a class that overrides the `__str__` and `__add__` magic methods. What will these methods allow\n",
        "you to do?\n",
        "\n",
        "\n",
        "12. Create a decorator that measures and prints the execution time of a function.\n",
        "\n",
        "\n",
        "13. Explain the concept of the Diamond Problem in multiple inheritance. How does Python resolve it?\n",
        "\n",
        "\n",
        "14. Write a class method that keeps track of the number of instances created from a class.\n",
        "\n",
        "\n",
        "15. Implement a static method in a class that checks if a given year is a leap year.\n",
        "\n",
        "**ANS**"
      ],
      "metadata": {
        "id": "8T28i1kgPHI4"
      }
    },
    {
      "cell_type": "markdown",
      "source": [
        "1. Five Key Concepts of Object-Oriented Programming (OOP):\n",
        "Encapsulation: Encapsulation is the practice of bundling the data and methods that operate on the data within a single unit or class. It restricts access to certain components of an object, enhancing security and modularity.\n",
        "\n",
        "Abstraction: Abstraction involves hiding the internal implementation details of a class and exposing only the essential features, making it easier to understand and work with the class.\n",
        "\n",
        "Inheritance: Inheritance allows a new class (child) to inherit attributes and methods from an existing class (parent). It helps in reusing code and building a hierarchical relationship between classes.\n",
        "\n",
        "Polymorphism: Polymorphism allows objects of different classes to be treated as instances of the same class through method overriding or function overloading, enabling a unified interface for different data types.\n",
        "\n",
        "Association & Composition: These are relationships between classes. Association represents a \"uses-a\" relationship, while composition is a stronger form of association, indicating ownership.\n",
        "\n"
      ],
      "metadata": {
        "id": "KuBe9g3TPpXC"
      }
    },
    {
      "cell_type": "code",
      "execution_count": null,
      "metadata": {
        "colab": {
          "base_uri": "https://localhost:8080/"
        },
        "id": "jHJ6yQfHPCay",
        "outputId": "813dcef9-9d2f-4eba-a9ba-8e3b5d850080"
      },
      "outputs": [
        {
          "output_type": "stream",
          "name": "stdout",
          "text": [
            "Car Information: 2020 Toyota Camry\n"
          ]
        }
      ],
      "source": [
        "#2 2. Write a Python class for a `Car` with attributes for `make`, `model`, and `year`. Include a method to display the car's information.\n",
        "\n",
        "class Car:\n",
        "    def __init__(self, make, model, year):\n",
        "        self.make = make\n",
        "        self.model = model\n",
        "        self.year = year\n",
        "\n",
        "    def display_info(self):\n",
        "        print(f\"Car Information: {self.year} {self.make} {self.model}\")\n",
        "\n",
        "# Create an instance and display information\n",
        "car1 = Car(\"Toyota\", \"Camry\", 2020)\n",
        "car1.display_info()\n"
      ]
    },
    {
      "cell_type": "markdown",
      "source": [
        "3. Difference Between Instance Methods and Class Methods:\n",
        "Instance Methods: These methods work with the object instance and can access and modify object attributes. They are defined using self as the first parameter.\n",
        "\n",
        "Class Methods: These methods work with the class as a whole and can access or modify class variables. They are defined using cls as the first parameter and the @classmethod decorator.\n",
        "*EXAMPLE*"
      ],
      "metadata": {
        "id": "EgXo376_P82D"
      }
    },
    {
      "cell_type": "code",
      "source": [
        "class Example:\n",
        "    class_variable = 0  # Class attribute\n",
        "\n",
        "    def __init__(self, value):\n",
        "        self.instance_variable = value  # Instance attribute\n",
        "\n",
        "    def instance_method(self):\n",
        "        print(f\"Instance method: instance_variable = {self.instance_variable}\")\n",
        "\n",
        "    @classmethod\n",
        "    def class_method(cls):\n",
        "        cls.class_variable += 1\n",
        "        print(f\"Class method: class_variable = {cls.class_variable}\")\n",
        "\n",
        "# Usage\n",
        "example1 = Example(10)\n",
        "example1.instance_method()   # Instance method\n",
        "Example.class_method()       # Class method\n"
      ],
      "metadata": {
        "colab": {
          "base_uri": "https://localhost:8080/"
        },
        "id": "jkIoHBd6QDzU",
        "outputId": "2d94c6b9-31b0-4f4b-869e-fc01b4c3be2a"
      },
      "execution_count": null,
      "outputs": [
        {
          "output_type": "stream",
          "name": "stdout",
          "text": [
            "Instance method: instance_variable = 10\n",
            "Class method: class_variable = 1\n"
          ]
        }
      ]
    },
    {
      "cell_type": "markdown",
      "source": [
        "4.\n",
        "4. Python Method Overloading:\n",
        "Python doesn't support traditional method overloading (multiple methods with the same name but different parameters). Instead, we use default arguments or variable-length arguments.\n",
        "*EXAMPLE*"
      ],
      "metadata": {
        "id": "TnYrDFxZQdl-"
      }
    },
    {
      "cell_type": "code",
      "source": [
        "class MathOperations:\n",
        "    def add(self, a, b=0, c=0):\n",
        "        return a + b + c\n",
        "\n",
        "# Create an instance and call the method\n",
        "math_op = MathOperations()\n",
        "print(math_op.add(5))        # Output: 5\n",
        "print(math_op.add(5, 10))    # Output: 15\n",
        "print(math_op.add(5, 10, 15)) # Output: 30\n"
      ],
      "metadata": {
        "colab": {
          "base_uri": "https://localhost:8080/"
        },
        "id": "HMbLOVicRBM9",
        "outputId": "ab4fb3bc-4847-43bc-bc32-39b378922faf"
      },
      "execution_count": null,
      "outputs": [
        {
          "output_type": "stream",
          "name": "stdout",
          "text": [
            "5\n",
            "15\n",
            "30\n"
          ]
        }
      ]
    },
    {
      "cell_type": "markdown",
      "source": [
        "5. Types of Access Modifiers in Python:\n",
        "Public: Accessible from inside and outside the class. Denoted normally (self.attribute).\n",
        "Protected: Accessible within the class and its subclasses. Denoted with a single underscore (_self.attribute).\n",
        "Private: Accessible only within the class itself. Denoted with a double underscore (__self.attribute)."
      ],
      "metadata": {
        "id": "vtYRoTYsQ835"
      }
    },
    {
      "cell_type": "markdown",
      "source": [
        "\n",
        "6. Types of Inheritance in Python with Multiple Inheritance Example:\n",
        "\n",
        "Single Inheritance: A child class inherits from one parent class.\n",
        "\n",
        "Multiple Inheritance: A child class inherits from more than one parent class.\n",
        "\n",
        "Multilevel Inheritance: A child class inherits from a parent class, which in turn inherits from another parent class.\n",
        "\n",
        "Hierarchical Inheritance: Multiple child classes inherit from the same parent class.\n",
        "\n",
        "Hybrid Inheritance: A combination of multiple inheritance types\n",
        "*EXAMPLE*"
      ],
      "metadata": {
        "id": "Mkr0WiApRF_d"
      }
    },
    {
      "cell_type": "code",
      "source": [
        "class Base1:\n",
        "    def display_base1(self):\n",
        "        print(\"Base1 class method\")\n",
        "\n",
        "class Base2:\n",
        "    def display_base2(self):\n",
        "        print(\"Base2 class method\")\n",
        "\n",
        "class Child(Base1, Base2):\n",
        "    def display_child(self):\n",
        "        print(\"Child class method\")\n",
        "\n",
        "# Create an instance and call methods\n",
        "child = Child()\n",
        "child.display_base1()\n",
        "child.display_base2()\n",
        "child.display_child()\n"
      ],
      "metadata": {
        "colab": {
          "base_uri": "https://localhost:8080/"
        },
        "id": "aI0H8JhKRNMf",
        "outputId": "fe934834-1f0b-4e88-845d-fc41b91e6e71"
      },
      "execution_count": null,
      "outputs": [
        {
          "output_type": "stream",
          "name": "stdout",
          "text": [
            "Base1 class method\n",
            "Base2 class method\n",
            "Child class method\n"
          ]
        }
      ]
    },
    {
      "cell_type": "markdown",
      "source": [
        "7. Method Resolution Order (MRO) in Python:\n",
        "MRO defines the order in which Python looks for a method in a hierarchy of classes. It can be retrieved using the __mro__ attribute or the mro() method.\n",
        "*EXAMPLE*"
      ],
      "metadata": {
        "id": "LEBPsKkgRcvN"
      }
    },
    {
      "cell_type": "code",
      "source": [
        "class A:\n",
        "    pass\n",
        "\n",
        "class B(A):\n",
        "    pass\n",
        "\n",
        "class C(B):\n",
        "    pass\n",
        "\n",
        "print(C.mro())  # Output: [<class '__main__.C'>, <class '__main__.B'>, <class '__main__.A'>, <class 'object'>]\n"
      ],
      "metadata": {
        "colab": {
          "base_uri": "https://localhost:8080/"
        },
        "id": "IYNDQ-jERapM",
        "outputId": "0b39f0f0-ca39-45f3-ba2f-96ed6a4e2f47"
      },
      "execution_count": null,
      "outputs": [
        {
          "output_type": "stream",
          "name": "stdout",
          "text": [
            "[<class '__main__.C'>, <class '__main__.B'>, <class '__main__.A'>, <class 'object'>]\n"
          ]
        }
      ]
    },
    {
      "cell_type": "code",
      "source": [
        "#8. Create an abstract base class `Shape` with an abstract method `area()`. Then create two subclasses`Circle` and `Rectangle` that implement the `area()` method.\n",
        "\n",
        "from abc import ABC, abstractmethod\n",
        "\n",
        "class Shape(ABC):\n",
        "    @abstractmethod\n",
        "    def area(self):\n",
        "        pass\n",
        "\n",
        "class Circle(Shape):\n",
        "    def __init__(self, radius):\n",
        "        self.radius = radius\n",
        "\n",
        "    def area(self):\n",
        "        return 3.14 * self.radius ** 2\n",
        "\n",
        "class Rectangle(Shape):\n",
        "    def __init__(self, width, height):\n",
        "        self.width = width\n",
        "        self.height = height\n",
        "\n",
        "    def area(self):\n",
        "        return self.width * self.height\n",
        "\n",
        "# Create instances and calculate areas\n",
        "circle = Circle(5)\n",
        "rectangle = Rectangle(4, 6)\n",
        "print(f\"Circle Area: {circle.area()}\")  # Output: Circle Area: 78.5\n",
        "print(f\"Rectangle Area: {rectangle.area()}\")  # Output: Rectangle Area: 24\n"
      ],
      "metadata": {
        "colab": {
          "base_uri": "https://localhost:8080/"
        },
        "id": "SbMwiBRMRmCG",
        "outputId": "872ee13d-56d2-45b0-a9f1-a8c353b041e2"
      },
      "execution_count": null,
      "outputs": [
        {
          "output_type": "stream",
          "name": "stdout",
          "text": [
            "Circle Area: 78.5\n",
            "Rectangle Area: 24\n"
          ]
        }
      ]
    },
    {
      "cell_type": "code",
      "source": [
        "#9. Demonstrate polymorphism by creating a function that can work with different shape objects to calculate\n",
        "and print their areas.\n",
        "def print_area(shape):\n",
        "    print(f\"The area is: {shape.area()}\")\n",
        "\n",
        "# Calling the function with different shapes\n",
        "print_area(circle)    # The area is: 78.5\n",
        "print_area(rectangle) # The area is: 24\n"
      ],
      "metadata": {
        "id": "slq0tM9tR1Gg"
      },
      "execution_count": null,
      "outputs": []
    },
    {
      "cell_type": "code",
      "source": [
        "#10  Implement encapsulation in a `BankAccount` class with private attributes for `balance` and`account_number`. Include methods for deposit, withdrawal, and balance inquiry.\n",
        "class BankAccount:\n",
        "    def __init__(self, account_number, balance=0):\n",
        "        self.__account_number = account_number  # Private attribute\n",
        "        self.__balance = balance  # Private attribute\n",
        "\n",
        "    def deposit(self, amount):\n",
        "        if amount > 0:\n",
        "            self.__balance += amount\n",
        "            print(f\"Deposited {amount}, New Balance: {self.__balance}\")\n",
        "\n",
        "    def withdraw(self, amount):\n",
        "        if amount > 0 and amount <= self.__balance:\n",
        "            self.__balance -= amount\n",
        "            print(f\"Withdrew {amount}, New Balance: {self.__balance}\")\n",
        "        else:\n",
        "            print(\"Insufficient balance or invalid amount\")\n",
        "\n",
        "    def get_balance(self):\n",
        "        return self.__balance\n",
        "\n",
        "# Create an account and perform operations\n",
        "account = BankAccount(\"12345678\", 1000)\n",
        "account.deposit(500)\n",
        "account.withdraw(300)\n",
        "print(f\"Current Balance: {account.get_balance()}\")\n"
      ],
      "metadata": {
        "id": "JZiV64wHR5Fh"
      },
      "execution_count": null,
      "outputs": []
    },
    {
      "cell_type": "code",
      "source": [
        "#11 Write a class that overrides the `__str__` and `__add__` magic methods. What will these methods allow you to do?\n",
        "\n",
        "class ComplexNumber:\n",
        "    def __init__(self, real, imag):\n",
        "        self.real = real\n",
        "        self.imag = imag\n",
        "\n",
        "    def __str__(self):\n",
        "        return f\"{self.real} + {self.imag}i\"\n",
        "\n",
        "    def __add__(self, other):\n",
        "        return ComplexNumber(self.real + other.real, self.imag + other.imag)\n",
        "\n",
        "# Create complex number objects\n",
        "c1 = ComplexNumber(2, 3)\n",
        "c2 = ComplexNumber(4, 5)\n",
        "\n",
        "# Demonstrate overridden methods\n",
        "print(c1)          # Output: 2 + 3i\n",
        "print(c1 + c2)     # Output: 6 + 8i\n"
      ],
      "metadata": {
        "id": "MPY9X-LER8sL"
      },
      "execution_count": null,
      "outputs": []
    },
    {
      "cell_type": "code",
      "source": [
        "#12 Create a decorator that measures and prints the execution time of a function.\n",
        "import time\n",
        "\n",
        "def measure_time(func):\n",
        "    def wrapper(*args, **kwargs):\n",
        "        start_time = time.time()\n",
        "        result = func(*args, **kwargs)\n",
        "        end_time = time.time()\n",
        "        print(f\"Execution time: {end_time - start_time} seconds\")\n",
        "        return result\n",
        "    return wrapper\n",
        "\n",
        "@measure_time\n",
        "def sample_function(n):\n",
        "    time.sleep(n)\n",
        "\n",
        "sample_function(2)  # Output: Execution time: 2.00xx seconds\n"
      ],
      "metadata": {
        "id": "I9vqrHPlSBPi"
      },
      "execution_count": null,
      "outputs": []
    },
    {
      "cell_type": "code",
      "source": [
        "#13 Explain the concept of the Diamond Problem in multiple inheritance. How does Python resolve it?\n",
        "\n",
        "\n",
        "\n",
        "15.\n",
        "class A:\n",
        "    def method(self):\n",
        "        print(\"Method in A\")\n",
        "\n",
        "class B(A):\n",
        "    def method(self):\n",
        "        print(\"Method in B\")\n",
        "\n",
        "class C(A):\n",
        "    def method(self):\n",
        "        print(\"Method in C\")\n",
        "\n",
        "class D(B, C):\n",
        "    pass\n",
        "\n",
        "d = D()\n",
        "d.method()  # Output: Method in B\n",
        "print(D.mro())  # MRO: [D, B, C, A, object]\n"
      ],
      "metadata": {
        "id": "gxvVO21hSFhx"
      },
      "execution_count": null,
      "outputs": []
    },
    {
      "cell_type": "code",
      "source": [
        "#14.Write a class method that keeps track of the number of instances created from a class.\n",
        "\n",
        "\n",
        "class InstanceCounter:\n",
        "    instance_count = 0  # Class variable to track the number of instances\n",
        "\n",
        "    def __init__(self):\n",
        "        InstanceCounter.instance_count += 1  # Increment count when a new instance is created\n",
        "\n",
        "    @classmethod\n",
        "    def get_instance_count(cls):\n",
        "        return cls.instance_count  # Return the count of instances\n",
        "\n",
        "# Create instances of the class\n",
        "obj1 = InstanceCounter()\n",
        "obj2 = InstanceCounter()\n",
        "obj3 = InstanceCounter()\n",
        "\n",
        "# Get the count of instances\n",
        "print(InstanceCounter.get_instance_count())  # Output: 3\n"
      ],
      "metadata": {
        "colab": {
          "base_uri": "https://localhost:8080/"
        },
        "id": "pawO5FXNSJiD",
        "outputId": "aa192cbb-8832-4db4-b6f1-a464b15767bb"
      },
      "execution_count": null,
      "outputs": [
        {
          "output_type": "stream",
          "name": "stdout",
          "text": [
            "3\n"
          ]
        }
      ]
    },
    {
      "cell_type": "code",
      "source": [
        "#15 .Implement a static method in a class that checks if a given year is a leap year.\n",
        "class YearChecker:\n",
        "    @staticmethod\n",
        "    def is_leap_year(year):\n",
        "        # Check if the year is a leap year\n",
        "        return (year % 4 == 0 and year % 100 != 0) or (year % 400 == 0)\n",
        "\n",
        "# Check for leap years\n",
        "print(YearChecker.is_leap_year(2020))  # Output: True (2020 is a leap year)\n",
        "print(YearChecker.is_leap_year(2021))  # Output: False (2021 is not a leap year)\n",
        "print(YearChecker.is_leap_year(1900))  # Output: False (1900 is not a leap year)\n",
        "print(YearChecker.is_leap_year(2000))  # Output: True (2000 is a leap year)\n"
      ],
      "metadata": {
        "colab": {
          "base_uri": "https://localhost:8080/"
        },
        "id": "w-PbZV7MSS_F",
        "outputId": "a441649c-c89a-4446-cb91-d7d7beba5627"
      },
      "execution_count": null,
      "outputs": [
        {
          "output_type": "stream",
          "name": "stdout",
          "text": [
            "True\n",
            "False\n",
            "False\n",
            "True\n"
          ]
        }
      ]
    }
  ]
}